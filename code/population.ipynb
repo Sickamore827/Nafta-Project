{
 "cells": [
  {
   "cell_type": "code",
   "execution_count": 54,
   "id": "354a63f9",
   "metadata": {},
   "outputs": [],
   "source": [
    "import pandas as pd \n",
    "import numpy as np\n",
    "import matplotlib.pyplot as plt\n",
    "pop = pd.read_csv('data/population.csv', header=[0], index_col=[0])\n",
    "pop.index.name = 'Year'  \n",
    "pop.fillna(0, inplace=True)\n",
    "genpop = pop.transpose()\n",
    "genpop1 = genpop.replace({'k': '*1e3', 'M': '*1e6', 'B': '*1e9' }, regex=True).map(pd.eval).astype(int)\n",
    "years = list(genpop1.index)\n",
    "eighteen_hundreds = genpop1[0:100]\n",
    "nineteen_hundreds = genpop1[194:226]\n",
    "present_day = genpop1[200:225]\n",
    "future = genpop1[226:251]"
   ]
  },
  {
   "cell_type": "code",
   "execution_count": 59,
   "id": "556bdb28",
   "metadata": {},
   "outputs": [
    {
     "name": "stdout",
     "output_type": "stream",
     "text": [
      "<class 'pandas.core.frame.DataFrame'>\n",
      "Index: 301 entries, 1800 to 2100\n",
      "Columns: 197 entries, Afghanistan to Zimbabwe\n",
      "dtypes: int64(197)\n",
      "memory usage: 473.7+ KB\n"
     ]
    }
   ],
   "source": [
    "genpop1.info()"
   ]
  },
  {
   "cell_type": "code",
   "execution_count": null,
   "id": "eac72498",
   "metadata": {},
   "outputs": [],
   "source": []
  },
  {
   "cell_type": "code",
   "execution_count": null,
   "id": "0036fc00",
   "metadata": {},
   "outputs": [],
   "source": []
  },
  {
   "cell_type": "code",
   "execution_count": null,
   "id": "4e180483",
   "metadata": {},
   "outputs": [],
   "source": []
  }
 ],
 "metadata": {
  "kernelspec": {
   "display_name": "Python 3 (ipykernel)",
   "language": "python",
   "name": "python3"
  },
  "language_info": {
   "codemirror_mode": {
    "name": "ipython",
    "version": 3
   },
   "file_extension": ".py",
   "mimetype": "text/x-python",
   "name": "python",
   "nbconvert_exporter": "python",
   "pygments_lexer": "ipython3",
   "version": "3.11.7"
  }
 },
 "nbformat": 4,
 "nbformat_minor": 5
}
