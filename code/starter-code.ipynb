{
 "cells": [
  {
   "cell_type": "markdown",
   "metadata": {},
   "source": [
    "<img src=\"http://imgur.com/1ZcRyrc.png\" style=\"float: left; margin: 20px; height: 55px\">\n",
    "\n",
    "# Project 1: World Development Statistics"
   ]
  },
  {
   "cell_type": "markdown",
   "metadata": {},
   "source": [
    "--- \n",
    "# Part 1\n",
    "\n",
    "Part 1 requires knowledge of basic Python.\n",
    "\n",
    "---"
   ]
  },
  {
   "cell_type": "markdown",
   "metadata": {},
   "source": [
    "## Problem Statement"
   ]
  },
  {
   "cell_type": "markdown",
   "metadata": {},
   "source": [
    "Decide on your problem statement that will guide your analysis for this project. For guidelines, sample prompts, or inspiration, check out the README.\n",
    "\n",
    "**To-Do:** *Replace this cell with your problem statement.*"
   ]
  },
  {
   "cell_type": "markdown",
   "metadata": {},
   "source": [
    "### Contents:\n",
    "- [Background](#Background)\n",
    "- [Data Import & Cleaning](#Data-Import-and-Cleaning)\n",
    "- [Exploratory Data Analysis](#Exploratory-Data-Analysis)\n",
    "- [Data Visualization](#Visualize-the-Data)\n",
    "- [Conclusions and Recommendations](#Conclusions-and-Recommendations)"
   ]
  },
  {
   "cell_type": "markdown",
   "metadata": {},
   "source": [
    "## Background"
   ]
  },
  {
   "cell_type": "markdown",
   "metadata": {},
   "source": [
    "For our first project, we're going to take a look at World Development Statistics from [Gapminder](https://www.gapminder.org/about/), an independent Swedish foundation that aims to make data about the world more accessible and reliable. A good introduction on Gapminder is this [Ted Talk](https://www.ted.com/talks/hans_rosling_the_best_stats_you_ve_ever_seen) from Hans Rosling, which also shows how effective data visualization can be for your audience."
   ]
  },
  {
   "cell_type": "markdown",
   "metadata": {},
   "source": [
    "**To-Do:** *Fill out this cell (or edit the above cell) with any other background or information that is necessary for your problem statement.*"
   ]
  },
  {
   "cell_type": "markdown",
   "metadata": {},
   "source": [
    "### Choose your Data\n",
    "\n",
    "There are 3 datasets included in the [`data`](./data/) folder for this project. You are required to pick **at least two** of these to complete your analysis. Feel free to use more than two if you would like, or add other relevant datasets you find online. \n",
    "\n",
    "**HINT: There are more datasets available on the Gapminder website**\n",
    "\n",
    "* [`population.csv`](./data/population.csv): Population by Country\n",
    "* [`life_expectancy.csv`](./data/life_expectancy.csv): Life Expectancy by Country\n",
    "* [`gni_per_cap_atlas_method_con2021.csv`](./data/gni_per_cap_atlas_method_con2021.csv): Gross National Income (GNI) per capita in current US dollars"
   ]
  },
  {
   "cell_type": "markdown",
   "metadata": {},
   "source": [
    "**To-Do:** *Fill out this cell with the datasets you will use for your analysis. Write a brief description of the contents for each dataset that you choose.*"
   ]
  },
  {
   "cell_type": "markdown",
   "metadata": {},
   "source": [
    "### Outside Research"
   ]
  },
  {
   "cell_type": "markdown",
   "metadata": {},
   "source": [
    "Based on your problem statement and your chosen datasets, spend some time doing outside research on state policies or additional information that might be relevant. Summarize your findings below. If you bring in any outside tables or charts, make sure you are explicit about having borrowed them. If you quote any text, make sure that it renders as being quoted. **Make sure that you cite your sources.**"
   ]
  },
  {
   "cell_type": "markdown",
   "metadata": {},
   "source": [
    "**To-Do:** *Fill out this cell with outside research or any additional background information that will support your analysis.*"
   ]
  },
  {
   "cell_type": "markdown",
   "metadata": {},
   "source": [
    "### Coding Challenges\n",
    "\n",
    "1. Manually calculate mean:\n",
    "\n",
    "    Write a function that takes in values and returns the mean of the values. Create a list of numbers that you test on your function to check to make sure your function works!\n",
    "    \n",
    "    *Note*: Do not use any mean methods built-in to any Python libraries to do this! This should be done without importing any additional libraries."
   ]
  },
  {
   "cell_type": "code",
   "execution_count": 8,
   "metadata": {},
   "outputs": [
    {
     "data": {
      "text/plain": [
       "146.0"
      ]
     },
     "execution_count": 8,
     "metadata": {},
     "output_type": "execute_result"
    }
   ],
   "source": [
    "# Code:\n",
    "import pandas as pd\n",
    "pd.read_csv(\"../data/population.csv\")\n",
    "array = [12,5,515,52]\n",
    "def average_of_array(lst): \n",
    "    return sum(lst) / len(lst)\n",
    "average_of_array(array)"
   ]
  },
  {
   "cell_type": "markdown",
   "metadata": {},
   "source": [
    "2. Manually calculate standard deviation:\n",
    "\n",
    "    The formula for standard deviation is below:\n",
    "\n",
    "    $$\\sigma = \\sqrt{\\frac{1}{n}\\sum_{i=1}^n(x_i - \\mu)^2}$$\n",
    "\n",
    "    Where $x_i$ represents each value in the dataset, $\\mu$ represents the mean of all values in the dataset and $n$ represents the number of values in the dataset.\n",
    "\n",
    "    Write a function that takes in values and returns the standard deviation of the values using the formula above. Hint: use the function you wrote above to calculate the mean! Use the list of numbers you created above to test on your function.\n",
    "    \n",
    "    *Note*: Do not use any standard deviation methods built-in to any Python libraries to do this! This should be done without importing any additional libraries."
   ]
  },
  {
   "cell_type": "code",
   "execution_count": 9,
   "metadata": {},
   "outputs": [
    {
     "data": {
      "text/plain": [
       "246.86973623080385"
      ]
     },
     "execution_count": 9,
     "metadata": {},
     "output_type": "execute_result"
    }
   ],
   "source": [
    "def standard_deviation(data):\n",
    "    n = len(data)\n",
    "    if n <= 1:\n",
    "        return 0\n",
    "    average_of_data = average_of_array(data)\n",
    "    variance = sum((x - average_of_data) ** 2 for x in data) / (n - 1)\n",
    "    return variance ** 0.5\n",
    "standard_deviation(array)"
   ]
  },
  {
   "cell_type": "markdown",
   "metadata": {},
   "source": [
    "3. Data cleaning function:\n",
    "    \n",
    "    Write a function that takes in a string consisting a number and an abbreviated place value (ex. '5M', '45K'), and converts that string to an integer. For example, inputting '5M' in your function should return 5000000, '45K' should return 45000, etc. Make sure to test your function to make sure it works!\n",
    "\n",
    "You will use these functions later on in the project!"
   ]
  },
  {
   "cell_type": "code",
   "execution_count": 108,
   "metadata": {},
   "outputs": [],
   "source": [
    "def multiply(countries):\n",
    "    temp = countries.replace({'k': '*1e3', 'M': '*1e6', 'B': '*1e9' }, regex=True).map(pd.eval).astype(int)\n",
    "    return temp\n",
    "\n"
   ]
  },
  {
   "cell_type": "markdown",
   "metadata": {},
   "source": [
    "--- \n",
    "# Part 2\n",
    "\n",
    "Part 2 requires knowledge of Pandas, EDA, data cleaning, and data visualization.\n",
    "\n",
    "---"
   ]
  },
  {
   "cell_type": "markdown",
   "metadata": {},
   "source": [
    "*All libraries used should be added here*"
   ]
  },
  {
   "cell_type": "code",
   "execution_count": 60,
   "metadata": {},
   "outputs": [],
   "source": [
    "import pandas as pd\n",
    "import matplotlib.pyplot as plt\n",
    "import numpy as np\n",
    "import seaborn as sb\n",
    "\n",
    "pop = pd.read_csv('../data/population.csv', header=[0], index_col=[0])\n",
    "life = pd.read_csv('../data/life_expectancy.csv',header=[0], index_col=[0])\n",
    "gni = pd.read_csv('../data/gni_per_cap_atlas_method_con2021.csv', header=[0], index_col=[0])"
   ]
  },
  {
   "cell_type": "markdown",
   "metadata": {},
   "source": [
    "## Data Import and Cleaning"
   ]
  },
  {
   "cell_type": "markdown",
   "metadata": {},
   "source": [
    "### Data Import & Cleaning\n",
    "\n",
    "Import the datasets that you selected for this project and go through the following steps at a minimum. You are welcome to do further cleaning as you feel necessary:\n",
    "1. Display the data: print the first 5 rows of each dataframe to your Jupyter notebook.\n",
    "2. Check for missing values.\n",
    "3. Check for any obvious issues with the observations (keep in mind reasonable values for each column).\n",
    "4. Fix any errors you identified in steps 2-3.\n",
    "5. Display the data types of each feature.\n",
    "6. Fix any incorrect data types found in step 5.\n",
    "    - Fix any individual values preventing other columns from being the appropriate type.\n",
    "    - If your dataset has a column of abbreviated numbers (ex. '3M', '45K', etc.), use the function you wrote in Part 1 (coding challenges, number 3) to convert this to integers! *Hint*: use `.map()` or `.apply()`.\n",
    "7. Rename Columns.\n",
    "    - Column names should be all lowercase.\n",
    "    - Column names should not contain spaces (underscores will suffice--this allows for using the `df.column_name` method to access columns in addition to `df['column_name']`).\n",
    "    - Column names should be unique and informative.\n",
    "8. Drop unnecessary rows (if needed).\n",
    "9. Merge dataframes that can be merged.\n",
    "10. Perform any additional cleaning that you feel is necessary.\n",
    "11. Save your cleaned and merged dataframes as csv files."
   ]
  },
  {
   "cell_type": "code",
   "execution_count": 16,
   "metadata": {},
   "outputs": [
    {
     "data": {
      "text/html": [
       "<div>\n",
       "<style scoped>\n",
       "    .dataframe tbody tr th:only-of-type {\n",
       "        vertical-align: middle;\n",
       "    }\n",
       "\n",
       "    .dataframe tbody tr th {\n",
       "        vertical-align: top;\n",
       "    }\n",
       "\n",
       "    .dataframe thead th {\n",
       "        text-align: right;\n",
       "    }\n",
       "</style>\n",
       "<table border=\"1\" class=\"dataframe\">\n",
       "  <thead>\n",
       "    <tr style=\"text-align: right;\">\n",
       "      <th></th>\n",
       "      <th>country</th>\n",
       "      <th>1800</th>\n",
       "      <th>1801</th>\n",
       "      <th>1802</th>\n",
       "      <th>1803</th>\n",
       "      <th>1804</th>\n",
       "      <th>1805</th>\n",
       "      <th>1806</th>\n",
       "      <th>1807</th>\n",
       "      <th>1808</th>\n",
       "      <th>...</th>\n",
       "      <th>2041</th>\n",
       "      <th>2042</th>\n",
       "      <th>2043</th>\n",
       "      <th>2044</th>\n",
       "      <th>2045</th>\n",
       "      <th>2046</th>\n",
       "      <th>2047</th>\n",
       "      <th>2048</th>\n",
       "      <th>2049</th>\n",
       "      <th>2050</th>\n",
       "    </tr>\n",
       "  </thead>\n",
       "  <tbody>\n",
       "    <tr>\n",
       "      <th>0</th>\n",
       "      <td>Afghanistan</td>\n",
       "      <td>207.0</td>\n",
       "      <td>207.0</td>\n",
       "      <td>207.0</td>\n",
       "      <td>207.0</td>\n",
       "      <td>207.0</td>\n",
       "      <td>207.0</td>\n",
       "      <td>207.0</td>\n",
       "      <td>207.0</td>\n",
       "      <td>207.0</td>\n",
       "      <td>...</td>\n",
       "      <td>751</td>\n",
       "      <td>767</td>\n",
       "      <td>783</td>\n",
       "      <td>800</td>\n",
       "      <td>817</td>\n",
       "      <td>834</td>\n",
       "      <td>852</td>\n",
       "      <td>870</td>\n",
       "      <td>888</td>\n",
       "      <td>907</td>\n",
       "    </tr>\n",
       "    <tr>\n",
       "      <th>1</th>\n",
       "      <td>Angola</td>\n",
       "      <td>517.0</td>\n",
       "      <td>519.0</td>\n",
       "      <td>522.0</td>\n",
       "      <td>524.0</td>\n",
       "      <td>525.0</td>\n",
       "      <td>528.0</td>\n",
       "      <td>531.0</td>\n",
       "      <td>533.0</td>\n",
       "      <td>536.0</td>\n",
       "      <td>...</td>\n",
       "      <td>2770</td>\n",
       "      <td>2830</td>\n",
       "      <td>2890</td>\n",
       "      <td>2950</td>\n",
       "      <td>3010</td>\n",
       "      <td>3080</td>\n",
       "      <td>3140</td>\n",
       "      <td>3210</td>\n",
       "      <td>3280</td>\n",
       "      <td>3340</td>\n",
       "    </tr>\n",
       "    <tr>\n",
       "      <th>2</th>\n",
       "      <td>Albania</td>\n",
       "      <td>207.0</td>\n",
       "      <td>207.0</td>\n",
       "      <td>207.0</td>\n",
       "      <td>207.0</td>\n",
       "      <td>207.0</td>\n",
       "      <td>207.0</td>\n",
       "      <td>207.0</td>\n",
       "      <td>207.0</td>\n",
       "      <td>207.0</td>\n",
       "      <td>...</td>\n",
       "      <td>9610</td>\n",
       "      <td>9820</td>\n",
       "      <td>10k</td>\n",
       "      <td>10.2k</td>\n",
       "      <td>10.5k</td>\n",
       "      <td>10.7k</td>\n",
       "      <td>10.9k</td>\n",
       "      <td>11.1k</td>\n",
       "      <td>11.4k</td>\n",
       "      <td>11.6k</td>\n",
       "    </tr>\n",
       "    <tr>\n",
       "      <th>3</th>\n",
       "      <td>United Arab Emirates</td>\n",
       "      <td>738.0</td>\n",
       "      <td>740.0</td>\n",
       "      <td>743.0</td>\n",
       "      <td>746.0</td>\n",
       "      <td>749.0</td>\n",
       "      <td>751.0</td>\n",
       "      <td>754.0</td>\n",
       "      <td>757.0</td>\n",
       "      <td>760.0</td>\n",
       "      <td>...</td>\n",
       "      <td>47.9k</td>\n",
       "      <td>48.9k</td>\n",
       "      <td>50k</td>\n",
       "      <td>51k</td>\n",
       "      <td>52.1k</td>\n",
       "      <td>53.2k</td>\n",
       "      <td>54.3k</td>\n",
       "      <td>55.5k</td>\n",
       "      <td>56.7k</td>\n",
       "      <td>57.9k</td>\n",
       "    </tr>\n",
       "    <tr>\n",
       "      <th>4</th>\n",
       "      <td>Argentina</td>\n",
       "      <td>794.0</td>\n",
       "      <td>797.0</td>\n",
       "      <td>799.0</td>\n",
       "      <td>802.0</td>\n",
       "      <td>805.0</td>\n",
       "      <td>808.0</td>\n",
       "      <td>810.0</td>\n",
       "      <td>813.0</td>\n",
       "      <td>816.0</td>\n",
       "      <td>...</td>\n",
       "      <td>12.8k</td>\n",
       "      <td>13.1k</td>\n",
       "      <td>13.4k</td>\n",
       "      <td>13.6k</td>\n",
       "      <td>13.9k</td>\n",
       "      <td>14.2k</td>\n",
       "      <td>14.5k</td>\n",
       "      <td>14.8k</td>\n",
       "      <td>15.2k</td>\n",
       "      <td>15.5k</td>\n",
       "    </tr>\n",
       "  </tbody>\n",
       "</table>\n",
       "<p>5 rows × 252 columns</p>\n",
       "</div>"
      ],
      "text/plain": [
       "                country   1800   1801   1802   1803   1804   1805   1806  \\\n",
       "0           Afghanistan  207.0  207.0  207.0  207.0  207.0  207.0  207.0   \n",
       "1                Angola  517.0  519.0  522.0  524.0  525.0  528.0  531.0   \n",
       "2               Albania  207.0  207.0  207.0  207.0  207.0  207.0  207.0   \n",
       "3  United Arab Emirates  738.0  740.0  743.0  746.0  749.0  751.0  754.0   \n",
       "4             Argentina  794.0  797.0  799.0  802.0  805.0  808.0  810.0   \n",
       "\n",
       "    1807   1808  ...   2041   2042   2043   2044   2045   2046   2047   2048  \\\n",
       "0  207.0  207.0  ...    751    767    783    800    817    834    852    870   \n",
       "1  533.0  536.0  ...   2770   2830   2890   2950   3010   3080   3140   3210   \n",
       "2  207.0  207.0  ...   9610   9820    10k  10.2k  10.5k  10.7k  10.9k  11.1k   \n",
       "3  757.0  760.0  ...  47.9k  48.9k    50k    51k  52.1k  53.2k  54.3k  55.5k   \n",
       "4  813.0  816.0  ...  12.8k  13.1k  13.4k  13.6k  13.9k  14.2k  14.5k  14.8k   \n",
       "\n",
       "    2049   2050  \n",
       "0    888    907  \n",
       "1   3280   3340  \n",
       "2  11.4k  11.6k  \n",
       "3  56.7k  57.9k  \n",
       "4  15.2k  15.5k  \n",
       "\n",
       "[5 rows x 252 columns]"
      ]
     },
     "execution_count": 16,
     "metadata": {},
     "output_type": "execute_result"
    }
   ],
   "source": [
    "pop.head(5)\n",
    "life.head(5)\n",
    "gni.head(5)"
   ]
  },
  {
   "cell_type": "code",
   "execution_count": 17,
   "metadata": {},
   "outputs": [
    {
     "data": {
      "text/plain": [
       "country    0\n",
       "1800       0\n",
       "1801       0\n",
       "1802       0\n",
       "1803       0\n",
       "          ..\n",
       "2096       1\n",
       "2097       1\n",
       "2098       1\n",
       "2099       1\n",
       "2100       1\n",
       "Length: 302, dtype: int64"
      ]
     },
     "execution_count": 17,
     "metadata": {},
     "output_type": "execute_result"
    }
   ],
   "source": [
    "pop.isna().sum()"
   ]
  },
  {
   "cell_type": "code",
   "execution_count": null,
   "metadata": {},
   "outputs": [],
   "source": [
    "life.index.name = 'Year'  \n",
    "life.fillna(0, inplace=True)\n",
    "life1 = life.transpose()\n",
    "life2 = multiply(life1)"
   ]
  },
  {
   "cell_type": "code",
   "execution_count": 113,
   "metadata": {},
   "outputs": [],
   "source": [
    "pop.index.name = 'Year'  \n",
    "pop.fillna(0, inplace=True)\n",
    "pop1 = pop.transpose()\n",
    "pop2 = multiply(pop1)"
   ]
  },
  {
   "cell_type": "code",
   "execution_count": 109,
   "metadata": {},
   "outputs": [],
   "source": [
    "gni.index.name = 'Year'  \n",
    "gni.fillna(0, inplace=True)\n",
    "gni1 = gni.transpose()\n",
    "gni2 = multiply(gni1)"
   ]
  },
  {
   "cell_type": "code",
   "execution_count": 65,
   "metadata": {},
   "outputs": [
    {
     "data": {
      "text/plain": [
       "['afghanistan',\n",
       " 'angola',\n",
       " 'albania',\n",
       " 'andorra',\n",
       " 'united_arab_emirates',\n",
       " 'argentina',\n",
       " 'armenia',\n",
       " 'antigua_and_barbuda',\n",
       " 'australia',\n",
       " 'austria',\n",
       " 'azerbaijan',\n",
       " 'burundi',\n",
       " 'belgium',\n",
       " 'benin',\n",
       " 'burkina_faso',\n",
       " 'bangladesh',\n",
       " 'bulgaria',\n",
       " 'bahrain',\n",
       " 'bahamas',\n",
       " 'bosnia_and_herzegovina',\n",
       " 'belarus',\n",
       " 'belize',\n",
       " 'bolivia',\n",
       " 'brazil',\n",
       " 'barbados',\n",
       " 'brunei',\n",
       " 'bhutan',\n",
       " 'botswana',\n",
       " 'central_african_republic',\n",
       " 'canada',\n",
       " 'switzerland',\n",
       " 'chile',\n",
       " 'china',\n",
       " \"cote_d'ivoire\",\n",
       " 'cameroon',\n",
       " 'congo,_dem._rep.',\n",
       " 'congo,_rep.',\n",
       " 'colombia',\n",
       " 'comoros',\n",
       " 'cape_verde',\n",
       " 'costa_rica',\n",
       " 'cuba',\n",
       " 'cyprus',\n",
       " 'czech_republic',\n",
       " 'germany',\n",
       " 'djibouti',\n",
       " 'dominica',\n",
       " 'denmark',\n",
       " 'dominican_republic',\n",
       " 'algeria',\n",
       " 'ecuador',\n",
       " 'egypt',\n",
       " 'eritrea',\n",
       " 'spain',\n",
       " 'estonia',\n",
       " 'ethiopia',\n",
       " 'finland',\n",
       " 'fiji',\n",
       " 'france',\n",
       " 'micronesia,_fed._sts.',\n",
       " 'gabon',\n",
       " 'united_kingdom',\n",
       " 'georgia',\n",
       " 'ghana',\n",
       " 'guinea',\n",
       " 'gambia',\n",
       " 'guinea-bissau',\n",
       " 'equatorial_guinea',\n",
       " 'greece',\n",
       " 'grenada',\n",
       " 'guatemala',\n",
       " 'guyana',\n",
       " 'hong_kong,_china',\n",
       " 'honduras',\n",
       " 'holy_see',\n",
       " 'croatia',\n",
       " 'haiti',\n",
       " 'hungary',\n",
       " 'indonesia',\n",
       " 'india',\n",
       " 'ireland',\n",
       " 'iran',\n",
       " 'iraq',\n",
       " 'iceland',\n",
       " 'israel',\n",
       " 'italy',\n",
       " 'jamaica',\n",
       " 'jordan',\n",
       " 'japan',\n",
       " 'kazakhstan',\n",
       " 'kenya',\n",
       " 'kyrgyz_republic',\n",
       " 'cambodia',\n",
       " 'kiribati',\n",
       " 'st._kitts_and_nevis',\n",
       " 'south_korea',\n",
       " 'kuwait',\n",
       " 'lao',\n",
       " 'lebanon',\n",
       " 'liberia',\n",
       " 'libya',\n",
       " 'st._lucia',\n",
       " 'liechtenstein',\n",
       " 'sri_lanka',\n",
       " 'lesotho',\n",
       " 'lithuania',\n",
       " 'luxembourg',\n",
       " 'latvia',\n",
       " 'morocco',\n",
       " 'monaco',\n",
       " 'moldova',\n",
       " 'madagascar',\n",
       " 'maldives',\n",
       " 'mexico',\n",
       " 'marshall_islands',\n",
       " 'north_macedonia',\n",
       " 'mali',\n",
       " 'malta',\n",
       " 'myanmar',\n",
       " 'montenegro',\n",
       " 'mongolia',\n",
       " 'mozambique',\n",
       " 'mauritania',\n",
       " 'mauritius',\n",
       " 'malawi',\n",
       " 'malaysia',\n",
       " 'namibia',\n",
       " 'niger',\n",
       " 'nigeria',\n",
       " 'nicaragua',\n",
       " 'netherlands',\n",
       " 'norway',\n",
       " 'nepal',\n",
       " 'nauru',\n",
       " 'new_zealand',\n",
       " 'oman',\n",
       " 'pakistan',\n",
       " 'panama',\n",
       " 'peru',\n",
       " 'philippines',\n",
       " 'palau',\n",
       " 'papua_new_guinea',\n",
       " 'poland',\n",
       " 'north_korea',\n",
       " 'portugal',\n",
       " 'paraguay',\n",
       " 'palestine',\n",
       " 'qatar',\n",
       " 'romania',\n",
       " 'russia',\n",
       " 'rwanda',\n",
       " 'saudi_arabia',\n",
       " 'sudan',\n",
       " 'senegal',\n",
       " 'singapore',\n",
       " 'solomon_islands',\n",
       " 'sierra_leone',\n",
       " 'el_salvador',\n",
       " 'san_marino',\n",
       " 'somalia',\n",
       " 'serbia',\n",
       " 'south_sudan',\n",
       " 'sao_tome_and_principe',\n",
       " 'suriname',\n",
       " 'slovak_republic',\n",
       " 'slovenia',\n",
       " 'sweden',\n",
       " 'eswatini',\n",
       " 'seychelles',\n",
       " 'syria',\n",
       " 'chad',\n",
       " 'togo',\n",
       " 'thailand',\n",
       " 'tajikistan',\n",
       " 'turkmenistan',\n",
       " 'timor-leste',\n",
       " 'tonga',\n",
       " 'trinidad_and_tobago',\n",
       " 'tunisia',\n",
       " 'turkey',\n",
       " 'tuvalu',\n",
       " 'taiwan',\n",
       " 'tanzania',\n",
       " 'uganda',\n",
       " 'ukraine',\n",
       " 'uruguay',\n",
       " 'united_states',\n",
       " 'uzbekistan',\n",
       " 'st._vincent_and_the_grenadines',\n",
       " 'venezuela',\n",
       " 'vietnam',\n",
       " 'vanuatu',\n",
       " 'samoa',\n",
       " 'yemen',\n",
       " 'south_africa',\n",
       " 'zambia',\n",
       " 'zimbabwe']"
      ]
     },
     "execution_count": 65,
     "metadata": {},
     "output_type": "execute_result"
    }
   ],
   "source": [
    "pop3 = [country.replace(' ','_').lower() for country in pop2]    "
   ]
  },
  {
   "cell_type": "markdown",
   "metadata": {},
   "source": [
    "### Data Dictionary\n",
    "\n",
    "Now that we've fixed our data, and given it appropriate names, let's create a [data dictionary](http://library.ucmerced.edu/node/10249). \n",
    "\n",
    "A data dictionary provides a quick overview of features/variables/columns, alongside data types and descriptions. The more descriptive you can be, the more useful this document is.\n",
    "\n",
    "Example of a Fictional Data Dictionary Entry: \n",
    "\n",
    "|Feature|Type|Dataset|Description|\n",
    "|---|---|---|---|\n",
    "|**county_pop**|*integer*|2010 census|The population of the county (units in thousands, where 2.5 represents 2500 people).| \n",
    "|**per_poverty**|*float*|2010 census|The percent of the county over the age of 18 living below the 200% of official US poverty rate (units percent to two decimal places 98.10 means 98.1%)|\n",
    "\n",
    "[Here's a quick link to a short guide for formatting markdown in Jupyter notebooks](https://jupyter-notebook.readthedocs.io/en/stable/examples/Notebook/Working%20With%20Markdown%20Cells.html).\n",
    "\n",
    "Provided is the skeleton for formatting a markdown table, with columns headers that will help you create a data dictionary to quickly summarize your data, as well as some examples. **This would be a great thing to copy and paste into your custom README for this project.**\n",
    "\n",
    "*Note*: if you are unsure of what a feature is, check the source of the data! This can be found in the README."
   ]
  },
  {
   "cell_type": "code",
   "execution_count": null,
   "metadata": {},
   "outputs": [],
   "source": [
    "|Feature  |Type|Dataset|Description|\n",
    "|nineteen_|--- |---    |---        |"
   ]
  },
  {
   "cell_type": "markdown",
   "metadata": {},
   "source": [
    "**To-Do:** *Edit the table below to create your own data dictionary for the datasets you chose.*\n",
    "\n",
    "|Feature|Type|Dataset|Description|\n",
    "|---|---|---|---|\n",
    "|column name|int/float/object|This is an example| \n"
   ]
  },
  {
   "cell_type": "markdown",
   "metadata": {},
   "source": [
    "## Exploratory Data Analysis\n",
    "\n",
    "Complete the following steps to explore your data. You are welcome to do more EDA than the steps outlined here as you feel necessary:\n",
    "1. Summary Statistics.\n",
    "2. Use a **dictionary comprehension** to apply the standard deviation function you create in part 1 to each numeric column in one of your dataframes.  **No loops**.\n",
    "    - Assign the output to variable `sd` as a dictionary where: \n",
    "        - Each column name is now a key \n",
    "        - That standard deviation of the column is the value\n",
    "        - *Example Output :* `{'1801': 3.80, '1802': 3.93, ...}`\n",
    "3. Investigate trends in the data.\n",
    "    - Using sorting and/or masking (along with the `.head()` method to avoid printing our entire dataframe), consider questions relevant to your problem statement. Some examples are provided below (but feel free to change these questions for your specific problem):\n",
    "        - Which states have the highest and lowest populations for the past few decades?\n",
    "        - Which states have the highest and lowest economic growth over the course of the dataset?\n",
    "        - What years were there new countries created?\n",
    "        - Do any countries have higher growth rates of population than their economy?\n",
    "        - Which countries have had the lowest population growth?\n",
    "    - **You should comment on your findings at each step in a markdown cell below your code block**. Make sure you include at least one example of sorting your dataframe by a column, and one example of using boolean filtering (i.e., masking) to select a subset of the dataframe."
   ]
  },
  {
   "cell_type": "code",
   "execution_count": null,
   "metadata": {},
   "outputs": [],
   "source": [
    "#Code:"
   ]
  },
  {
   "cell_type": "markdown",
   "metadata": {},
   "source": [
    "**To-Do:** *Edit this cell with your findings on trends in the data (step 3 above).*"
   ]
  },
  {
   "cell_type": "markdown",
   "metadata": {},
   "source": [
    "## Visualize the Data\n",
    "\n",
    "There's not a magic bullet recommendation for the right number of plots to understand a given dataset, but visualizing your data is *always* a good idea. Not only does it allow you to quickly convey your findings (even if you have a non-technical audience), it will often reveal trends in your data that escaped you when you were looking only at numbers. It is important to not only create visualizations, but to **interpret your visualizations** as well.\n",
    "\n",
    "**Every plot should**:\n",
    "- Have a title\n",
    "- Have axis labels\n",
    "- Have appropriate tick labels\n",
    "- Text is legible in a plot\n",
    "- Plots demonstrate meaningful and valid relationships\n",
    "- Have an interpretation to aid understanding\n",
    "\n",
    "Here is an example of what your plots should look like following the above guidelines. Note that while the content of this example is unrelated, the principles of visualization hold:\n",
    "\n",
    "![](https://snag.gy/hCBR1U.jpg)\n",
    "*Interpretation: The above image shows that as we increase our spending on advertising, our sales numbers also tend to increase. There is a positive correlation between advertising spending and sales.*\n",
    "\n",
    "---\n",
    "\n",
    "Here are some prompts to get you started with visualizations. Feel free to add additional visualizations as you see fit:\n",
    "1. Use Seaborn's heatmap with pandas `.corr()` to visualize correlations between all numeric features.\n",
    "    - Heatmaps are generally not appropriate for presentations, and should often be excluded from reports as they can be visually overwhelming. **However**, they can be extremely useful in identify relationships of potential interest (as well as identifying potential collinearity before modeling).\n",
    "    - Please take time to format your output, adding a title. Look through some of the additional arguments and options. (Axis labels aren't really necessary, as long as the title is informative).\n",
    "2. Visualize distributions using histograms. If you have a lot, consider writing a custom function and use subplots.\n",
    "    - *OPTIONAL*: Summarize the underlying distributions of your features (in words & statistics)\n",
    "         - Be thorough in your verbal description of these distributions.\n",
    "         - Be sure to back up these summaries with statistics.\n",
    "         - We generally assume that data we sample from a population will be normally distributed. Do we observe this trend? Explain your answers for each distribution and how you think this will affect estimates made from these data.\n",
    "3. Plot and interpret boxplots. \n",
    "    - Boxplots demonstrate central tendency and spread in variables. In a certain sense, these are somewhat redundant with histograms, but you may be better able to identify clear outliers or differences in IQR, etc.\n",
    "    - Multiple values can be plotted to a single boxplot as long as they are of the same relative scale (meaning they have similar min/max values).\n",
    "    - Each boxplot should:\n",
    "        - Only include variables of a similar scale\n",
    "        - Have clear labels for each variable\n",
    "        - Have appropriate titles and labels\n",
    "4. Plot and interpret scatter plots to view relationships between features. Feel free to write a custom function, and subplot if you'd like. Functions save both time and space.\n",
    "    - Your plots should have:\n",
    "        - Two clearly labeled axes\n",
    "        - A proper title\n",
    "        - Colors and symbols that are clear and unmistakable\n",
    "5. Additional plots of your choosing.\n",
    "    - Are there any additional trends or relationships you haven't explored? Was there something interesting you saw that you'd like to dive further into? It's likely that there are a few more plots you might want to generate to support your narrative and recommendations that you are building toward. **As always, make sure you're interpreting your plots as you go**."
   ]
  },
  {
   "cell_type": "code",
   "execution_count": 120,
   "metadata": {},
   "outputs": [
    {
     "data": {
      "image/png": "[encoded data removed]",
      "text/plain": [
       "<Figure size 640x480 with 2 Axes>"
      ]
     },
     "metadata": {},
     "output_type": "display_data"
    }
   ],
   "source": [
    "north_america = pop2[['United States', 'Canada', 'Mexico']]\n",
    "sns.heatmap(north_america.corr());\n",
    "plt.xlabel('Country')\n",
    "plt.ylabel('Country')\n",
    "plt.title(\"Countries population\", size=10, loc='left');\n"
   ]
  },
  {
   "cell_type": "code",
   "execution_count": 127,
   "metadata": {},
   "outputs": [
    {
     "data": {
      "image/png": "[encoded data removed]",
      "text/plain": [
       "<Figure size 640x480 with 4 Axes>"
      ]
     },
     "metadata": {},
     "output_type": "display_data"
    }
   ],
   "source": [
    "north_america = pop2[['United States', 'Canada', 'Mexico']]\n",
    "nineteen_hundreds = north_america[100:200]\n",
    "nineteen_hundreds.hist(bins=10);\n",
    "\n",
    "# The graphs are all skewed left indicating that populations are increasing"
   ]
  },
  {
   "cell_type": "code",
   "execution_count": 131,
   "metadata": {},
   "outputs": [
    {
     "data": {
      "text/html": [
       "<div>\n",
       "<style scoped>\n",
       "    .dataframe tbody tr th:only-of-type {\n",
       "        vertical-align: middle;\n",
       "    }\n",
       "\n",
       "    .dataframe tbody tr th {\n",
       "        vertical-align: top;\n",
       "    }\n",
       "\n",
       "    .dataframe thead th {\n",
       "        text-align: right;\n",
       "    }\n",
       "</style>\n",
       "<table border=\"1\" class=\"dataframe\">\n",
       "  <thead>\n",
       "    <tr style=\"text-align: right;\">\n",
       "      <th>Year</th>\n",
       "      <th>United States</th>\n",
       "      <th>Canada</th>\n",
       "      <th>Mexico</th>\n",
       "    </tr>\n",
       "  </thead>\n",
       "  <tbody>\n",
       "    <tr>\n",
       "      <th>count</th>\n",
       "      <td>1.000000e+02</td>\n",
       "      <td>1.000000e+02</td>\n",
       "      <td>1.000000e+02</td>\n",
       "    </tr>\n",
       "    <tr>\n",
       "      <th>mean</th>\n",
       "      <td>1.605890e+08</td>\n",
       "      <td>1.590760e+07</td>\n",
       "      <td>3.795200e+07</td>\n",
       "    </tr>\n",
       "    <tr>\n",
       "      <th>std</th>\n",
       "      <td>5.890657e+07</td>\n",
       "      <td>7.693525e+06</td>\n",
       "      <td>2.607042e+07</td>\n",
       "    </tr>\n",
       "    <tr>\n",
       "      <th>min</th>\n",
       "      <td>7.480000e+07</td>\n",
       "      <td>5.410000e+06</td>\n",
       "      <td>1.330000e+07</td>\n",
       "    </tr>\n",
       "    <tr>\n",
       "      <th>25%</th>\n",
       "      <td>1.115000e+08</td>\n",
       "      <td>9.330000e+06</td>\n",
       "      <td>1.545000e+07</td>\n",
       "    </tr>\n",
       "    <tr>\n",
       "      <th>50%</th>\n",
       "      <td>1.470000e+08</td>\n",
       "      <td>1.355000e+07</td>\n",
       "      <td>2.715000e+07</td>\n",
       "    </tr>\n",
       "    <tr>\n",
       "      <th>75%</th>\n",
       "      <td>2.095000e+08</td>\n",
       "      <td>2.287500e+07</td>\n",
       "      <td>5.735000e+07</td>\n",
       "    </tr>\n",
       "    <tr>\n",
       "      <th>max</th>\n",
       "      <td>2.790000e+08</td>\n",
       "      <td>3.040000e+07</td>\n",
       "      <td>9.630000e+07</td>\n",
       "    </tr>\n",
       "  </tbody>\n",
       "</table>\n",
       "</div>"
      ],
      "text/plain": [
       "Year   United States        Canada        Mexico\n",
       "count   1.000000e+02  1.000000e+02  1.000000e+02\n",
       "mean    1.605890e+08  1.590760e+07  3.795200e+07\n",
       "std     5.890657e+07  7.693525e+06  2.607042e+07\n",
       "min     7.480000e+07  5.410000e+06  1.330000e+07\n",
       "25%     1.115000e+08  9.330000e+06  1.545000e+07\n",
       "50%     1.470000e+08  1.355000e+07  2.715000e+07\n",
       "75%     2.095000e+08  2.287500e+07  5.735000e+07\n",
       "max     2.790000e+08  3.040000e+07  9.630000e+07"
      ]
     },
     "execution_count": 131,
     "metadata": {},
     "output_type": "execute_result"
    }
   ],
   "source": [
    "nineteen_hundreds.describe()"
   ]
  },
  {
   "cell_type": "code",
   "execution_count": 128,
   "metadata": {},
   "outputs": [
    {
     "data": {
      "text/plain": [
       "<Axes: >"
      ]
     },
     "execution_count": 128,
     "metadata": {},
     "output_type": "execute_result"
    },
    {
     "data": {
      "image/png": "[encoded data removed]",
      "text/plain": [
       "<Figure size 640x480 with 1 Axes>"
      ]
     },
     "metadata": {},
     "output_type": "display_data"
    }
   ],
   "source": [
    "north_america = pop2[['United States', 'Canada', 'Mexico']]\n",
    "nineteen_hundreds = north_america[100:200]\n",
    "nineteen_hundreds.boxplot(vert=False)"
   ]
  },
  {
   "cell_type": "code",
   "execution_count": 134,
   "metadata": {},
   "outputs": [
    {
     "ename": "TypeError",
     "evalue": "'Index' object is not callable",
     "output_type": "error",
     "traceback": [
      "\u001b[0;31m---------------------------------------------------------------------------\u001b[0m",
      "\u001b[0;31mTypeError\u001b[0m                                 Traceback (most recent call last)",
      "Cell \u001b[0;32mIn[134], line 1\u001b[0m\n\u001b[0;32m----> 1\u001b[0m plt\u001b[38;5;241m.\u001b[39mscatter(nineteen_hundreds\u001b[38;5;241m.\u001b[39mindex(), nineteen_hundres, color\u001b[38;5;241m=\u001b[39m\u001b[38;5;124m'\u001b[39m\u001b[38;5;124mgray\u001b[39m\u001b[38;5;124m'\u001b[39m)\n\u001b[1;32m      3\u001b[0m \u001b[38;5;66;03m# Create a descriptive title\u001b[39;00m\n\u001b[1;32m      4\u001b[0m \n\u001b[1;32m      5\u001b[0m \u001b[38;5;66;03m# Add axis labels\u001b[39;00m\n\u001b[1;32m      6\u001b[0m plt\u001b[38;5;241m.\u001b[39mxlabel(\u001b[38;5;124m'\u001b[39m\u001b[38;5;124mCountries\u001b[39m\u001b[38;5;124m'\u001b[39m)\n",
      "\u001b[0;31mTypeError\u001b[0m: 'Index' object is not callable"
     ]
    }
   ],
   "source": [
    "plt.scatter(nineteen_hundreds.index(), nineteen_hundres, color='gray')\n",
    "\n",
    "# Create a descriptive title\n",
    "\n",
    "# Add axis labels\n",
    "plt.xlabel('Countries')\n",
    "plt.ylabel('Years');"
   ]
  },
  {
   "cell_type": "code",
   "execution_count": null,
   "metadata": {},
   "outputs": [],
   "source": []
  },
  {
   "cell_type": "markdown",
   "metadata": {},
   "source": [
    "## Conclusions and Recommendations"
   ]
  },
  {
   "cell_type": "markdown",
   "metadata": {},
   "source": [
    "Based on your exploration of the data, what are you key takeaways and recommendations? Make sure to answer your question of interest or address your problem statement here."
   ]
  },
  {
   "cell_type": "markdown",
   "metadata": {},
   "source": [
    "**To-Do:** *Edit this cell with your conclusions and recommendations.*"
   ]
  },
  {
   "cell_type": "markdown",
   "metadata": {},
   "source": [
    "**Don't forget to create your README!**\n",
    "\n",
    "**To-Do:** *If you combine your problem statement, data dictionary, brief summary of your analysis, and conclusions/recommendations, you have an amazing README.md file that quickly aligns your audience to the contents of your project.* Don't forget to cite your data sources!"
   ]
  },
  {
   "cell_type": "code",
   "execution_count": null,
   "metadata": {},
   "outputs": [],
   "source": []
  }
 ],
 "metadata": {
  "anaconda-cloud": {},
  "kernelspec": {
   "display_name": "Python 3 (ipykernel)",
   "language": "python",
   "name": "python3"
  },
  "language_info": {
   "codemirror_mode": {
    "name": "ipython",
    "version": 3
   },
   "file_extension": ".py",
   "mimetype": "text/x-python",
   "name": "python",
   "nbconvert_exporter": "python",
   "pygments_lexer": "ipython3",
   "version": "3.11.7"
  }
 },
 "nbformat": 4,
 "nbformat_minor": 4
}
